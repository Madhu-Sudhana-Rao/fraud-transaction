{
 "cells": [
  {
   "cell_type": "code",
   "execution_count": 1,
   "id": "769d7cd6-9481-4a90-b26a-29b06300ef7b",
   "metadata": {},
   "outputs": [],
   "source": [
    "import kagglehub\n",
    "import pandas as pd\n",
    "import os\n",
    "import numpy as np\n",
    "import matplotlib.pyplot as plt \n",
    "import seaborn as sns\n",
    "import warnings\n",
    "warnings.filterwarnings('ignore')"
   ]
  },
  {
   "cell_type": "code",
   "execution_count": 2,
   "id": "ef931c79-da24-41db-85d0-8add03ad5d6e",
   "metadata": {},
   "outputs": [],
   "source": [
    "path = kagglehub.dataset_download(\"ranjitmandal/fraud-detection-dataset-csv\")"
   ]
  },
  {
   "cell_type": "code",
   "execution_count": 3,
   "id": "c7d7ae8d-b758-495d-bc53-907271117757",
   "metadata": {},
   "outputs": [],
   "source": [
    "csv_file = [file for file in os.listdir(path) if file.endswith('.csv')][0]"
   ]
  },
  {
   "cell_type": "code",
   "execution_count": 4,
   "id": "f2cc2377-4030-410d-93c6-1e1dab673dc6",
   "metadata": {},
   "outputs": [],
   "source": [
    "df = pd.read_csv(os.path.join(path, csv_file))"
   ]
  },
  {
   "cell_type": "code",
   "execution_count": 5,
   "id": "d55ade29-87de-4fa2-9a89-0862805be495",
   "metadata": {},
   "outputs": [
    {
     "data": {
      "text/html": [
       "<div>\n",
       "<style scoped>\n",
       "    .dataframe tbody tr th:only-of-type {\n",
       "        vertical-align: middle;\n",
       "    }\n",
       "\n",
       "    .dataframe tbody tr th {\n",
       "        vertical-align: top;\n",
       "    }\n",
       "\n",
       "    .dataframe thead th {\n",
       "        text-align: right;\n",
       "    }\n",
       "</style>\n",
       "<table border=\"1\" class=\"dataframe\">\n",
       "  <thead>\n",
       "    <tr style=\"text-align: right;\">\n",
       "      <th></th>\n",
       "      <th>Transaction_ID</th>\n",
       "      <th>User_ID</th>\n",
       "      <th>Transaction_Amount</th>\n",
       "      <th>Transaction_Type</th>\n",
       "      <th>Time_of_Transaction</th>\n",
       "      <th>Device_Used</th>\n",
       "      <th>Location</th>\n",
       "      <th>Previous_Fraudulent_Transactions</th>\n",
       "      <th>Account_Age</th>\n",
       "      <th>Number_of_Transactions_Last_24H</th>\n",
       "      <th>Payment_Method</th>\n",
       "      <th>Fraudulent</th>\n",
       "    </tr>\n",
       "  </thead>\n",
       "  <tbody>\n",
       "    <tr>\n",
       "      <th>12855</th>\n",
       "      <td>T12856</td>\n",
       "      <td>3434</td>\n",
       "      <td>3996.59</td>\n",
       "      <td>POS Payment</td>\n",
       "      <td>21.0</td>\n",
       "      <td>Desktop</td>\n",
       "      <td>Los Angeles</td>\n",
       "      <td>1</td>\n",
       "      <td>83</td>\n",
       "      <td>1</td>\n",
       "      <td>Debit Card</td>\n",
       "      <td>0</td>\n",
       "    </tr>\n",
       "    <tr>\n",
       "      <th>47892</th>\n",
       "      <td>T47893</td>\n",
       "      <td>3272</td>\n",
       "      <td>2994.80</td>\n",
       "      <td>Bank Transfer</td>\n",
       "      <td>14.0</td>\n",
       "      <td>Mobile</td>\n",
       "      <td>Houston</td>\n",
       "      <td>0</td>\n",
       "      <td>21</td>\n",
       "      <td>14</td>\n",
       "      <td>Credit Card</td>\n",
       "      <td>0</td>\n",
       "    </tr>\n",
       "    <tr>\n",
       "      <th>21896</th>\n",
       "      <td>T21897</td>\n",
       "      <td>2918</td>\n",
       "      <td>4205.56</td>\n",
       "      <td>Online Purchase</td>\n",
       "      <td>6.0</td>\n",
       "      <td>Desktop</td>\n",
       "      <td>Chicago</td>\n",
       "      <td>2</td>\n",
       "      <td>68</td>\n",
       "      <td>2</td>\n",
       "      <td>Net Banking</td>\n",
       "      <td>0</td>\n",
       "    </tr>\n",
       "    <tr>\n",
       "      <th>41918</th>\n",
       "      <td>T41919</td>\n",
       "      <td>4263</td>\n",
       "      <td>4763.47</td>\n",
       "      <td>ATM Withdrawal</td>\n",
       "      <td>15.0</td>\n",
       "      <td>Desktop</td>\n",
       "      <td>Seattle</td>\n",
       "      <td>1</td>\n",
       "      <td>78</td>\n",
       "      <td>14</td>\n",
       "      <td>Debit Card</td>\n",
       "      <td>0</td>\n",
       "    </tr>\n",
       "    <tr>\n",
       "      <th>34084</th>\n",
       "      <td>T34085</td>\n",
       "      <td>4153</td>\n",
       "      <td>1607.41</td>\n",
       "      <td>Bill Payment</td>\n",
       "      <td>19.0</td>\n",
       "      <td>Mobile</td>\n",
       "      <td>Chicago</td>\n",
       "      <td>0</td>\n",
       "      <td>107</td>\n",
       "      <td>3</td>\n",
       "      <td>Debit Card</td>\n",
       "      <td>0</td>\n",
       "    </tr>\n",
       "  </tbody>\n",
       "</table>\n",
       "</div>"
      ],
      "text/plain": [
       "      Transaction_ID  User_ID  Transaction_Amount Transaction_Type  \\\n",
       "12855         T12856     3434             3996.59      POS Payment   \n",
       "47892         T47893     3272             2994.80    Bank Transfer   \n",
       "21896         T21897     2918             4205.56  Online Purchase   \n",
       "41918         T41919     4263             4763.47   ATM Withdrawal   \n",
       "34084         T34085     4153             1607.41     Bill Payment   \n",
       "\n",
       "       Time_of_Transaction Device_Used     Location  \\\n",
       "12855                 21.0     Desktop  Los Angeles   \n",
       "47892                 14.0      Mobile      Houston   \n",
       "21896                  6.0     Desktop      Chicago   \n",
       "41918                 15.0     Desktop      Seattle   \n",
       "34084                 19.0      Mobile      Chicago   \n",
       "\n",
       "       Previous_Fraudulent_Transactions  Account_Age  \\\n",
       "12855                                 1           83   \n",
       "47892                                 0           21   \n",
       "21896                                 2           68   \n",
       "41918                                 1           78   \n",
       "34084                                 0          107   \n",
       "\n",
       "       Number_of_Transactions_Last_24H Payment_Method  Fraudulent  \n",
       "12855                                1     Debit Card           0  \n",
       "47892                               14    Credit Card           0  \n",
       "21896                                2    Net Banking           0  \n",
       "41918                               14     Debit Card           0  \n",
       "34084                                3     Debit Card           0  "
      ]
     },
     "execution_count": 5,
     "metadata": {},
     "output_type": "execute_result"
    }
   ],
   "source": [
    "df.sample(5)"
   ]
  },
  {
   "cell_type": "code",
   "execution_count": 6,
   "id": "6db022bb-9e83-4659-a33f-0c2efda6b761",
   "metadata": {},
   "outputs": [
    {
     "name": "stdout",
     "output_type": "stream",
     "text": [
      "<class 'pandas.core.frame.DataFrame'>\n",
      "RangeIndex: 51000 entries, 0 to 50999\n",
      "Data columns (total 12 columns):\n",
      " #   Column                            Non-Null Count  Dtype  \n",
      "---  ------                            --------------  -----  \n",
      " 0   Transaction_ID                    51000 non-null  object \n",
      " 1   User_ID                           51000 non-null  int64  \n",
      " 2   Transaction_Amount                48480 non-null  float64\n",
      " 3   Transaction_Type                  51000 non-null  object \n",
      " 4   Time_of_Transaction               48448 non-null  float64\n",
      " 5   Device_Used                       48527 non-null  object \n",
      " 6   Location                          48453 non-null  object \n",
      " 7   Previous_Fraudulent_Transactions  51000 non-null  int64  \n",
      " 8   Account_Age                       51000 non-null  int64  \n",
      " 9   Number_of_Transactions_Last_24H   51000 non-null  int64  \n",
      " 10  Payment_Method                    48531 non-null  object \n",
      " 11  Fraudulent                        51000 non-null  int64  \n",
      "dtypes: float64(2), int64(5), object(5)\n",
      "memory usage: 4.7+ MB\n"
     ]
    }
   ],
   "source": [
    "df.info()"
   ]
  },
  {
   "cell_type": "code",
   "execution_count": 7,
   "id": "8ffd9b3e-3bb5-4995-98f7-8aca628bb407",
   "metadata": {},
   "outputs": [
    {
     "data": {
      "text/plain": [
       "Transaction_ID                         0\n",
       "User_ID                                0\n",
       "Transaction_Amount                  2520\n",
       "Transaction_Type                       0\n",
       "Time_of_Transaction                 2552\n",
       "Device_Used                         2473\n",
       "Location                            2547\n",
       "Previous_Fraudulent_Transactions       0\n",
       "Account_Age                            0\n",
       "Number_of_Transactions_Last_24H        0\n",
       "Payment_Method                      2469\n",
       "Fraudulent                             0\n",
       "dtype: int64"
      ]
     },
     "execution_count": 7,
     "metadata": {},
     "output_type": "execute_result"
    }
   ],
   "source": [
    "df.isnull().sum()"
   ]
  },
  {
   "cell_type": "code",
   "execution_count": 8,
   "id": "f6a9c0ff-e459-4c1b-9f4e-72ecb9794d41",
   "metadata": {},
   "outputs": [
    {
     "data": {
      "text/plain": [
       "Payment_Method\n",
       "UPI               11887\n",
       "Debit Card        11802\n",
       "Net Banking       11666\n",
       "Credit Card       11646\n",
       "Invalid Method     1530\n",
       "Name: count, dtype: int64"
      ]
     },
     "execution_count": 8,
     "metadata": {},
     "output_type": "execute_result"
    }
   ],
   "source": [
    "df['Payment_Method'].value_counts()"
   ]
  },
  {
   "cell_type": "code",
   "execution_count": 9,
   "id": "76a17a60-6322-4e9d-bf1d-778f0c2fe5d0",
   "metadata": {},
   "outputs": [],
   "source": [
    "data=df.copy()\n"
   ]
  },
  {
   "cell_type": "code",
   "execution_count": 10,
   "id": "5f40d084-b35e-43ce-8e5e-2b2c9e254fbf",
   "metadata": {},
   "outputs": [
    {
     "data": {
      "text/plain": [
       "Transaction_ID                         0\n",
       "User_ID                                0\n",
       "Transaction_Amount                  2520\n",
       "Transaction_Type                       0\n",
       "Time_of_Transaction                 2552\n",
       "Device_Used                         2473\n",
       "Location                            2547\n",
       "Previous_Fraudulent_Transactions       0\n",
       "Account_Age                            0\n",
       "Number_of_Transactions_Last_24H        0\n",
       "Payment_Method                      2469\n",
       "Fraudulent                             0\n",
       "dtype: int64"
      ]
     },
     "execution_count": 10,
     "metadata": {},
     "output_type": "execute_result"
    }
   ],
   "source": [
    "data.isnull().sum()"
   ]
  },
  {
   "cell_type": "code",
   "execution_count": 11,
   "id": "3eb90aef-66ea-4818-80d2-9221c9967d0f",
   "metadata": {},
   "outputs": [],
   "source": [
    "data=data.drop(columns=['Transaction_ID','User_ID','Location'])"
   ]
  },
  {
   "cell_type": "code",
   "execution_count": 12,
   "id": "9a33efe7-0878-4a1c-9221-d94455631827",
   "metadata": {},
   "outputs": [
    {
     "data": {
      "text/html": [
       "<div>\n",
       "<style scoped>\n",
       "    .dataframe tbody tr th:only-of-type {\n",
       "        vertical-align: middle;\n",
       "    }\n",
       "\n",
       "    .dataframe tbody tr th {\n",
       "        vertical-align: top;\n",
       "    }\n",
       "\n",
       "    .dataframe thead th {\n",
       "        text-align: right;\n",
       "    }\n",
       "</style>\n",
       "<table border=\"1\" class=\"dataframe\">\n",
       "  <thead>\n",
       "    <tr style=\"text-align: right;\">\n",
       "      <th></th>\n",
       "      <th>Transaction_Amount</th>\n",
       "      <th>Transaction_Type</th>\n",
       "      <th>Time_of_Transaction</th>\n",
       "      <th>Device_Used</th>\n",
       "      <th>Previous_Fraudulent_Transactions</th>\n",
       "      <th>Account_Age</th>\n",
       "      <th>Number_of_Transactions_Last_24H</th>\n",
       "      <th>Payment_Method</th>\n",
       "      <th>Fraudulent</th>\n",
       "    </tr>\n",
       "  </thead>\n",
       "  <tbody>\n",
       "    <tr>\n",
       "      <th>35733</th>\n",
       "      <td>1414.20</td>\n",
       "      <td>ATM Withdrawal</td>\n",
       "      <td>15.0</td>\n",
       "      <td>Mobile</td>\n",
       "      <td>3</td>\n",
       "      <td>100</td>\n",
       "      <td>6</td>\n",
       "      <td>Net Banking</td>\n",
       "      <td>0</td>\n",
       "    </tr>\n",
       "    <tr>\n",
       "      <th>7210</th>\n",
       "      <td>217.64</td>\n",
       "      <td>Bill Payment</td>\n",
       "      <td>19.0</td>\n",
       "      <td>Mobile</td>\n",
       "      <td>0</td>\n",
       "      <td>4</td>\n",
       "      <td>4</td>\n",
       "      <td>Credit Card</td>\n",
       "      <td>1</td>\n",
       "    </tr>\n",
       "    <tr>\n",
       "      <th>24032</th>\n",
       "      <td>180.97</td>\n",
       "      <td>POS Payment</td>\n",
       "      <td>1.0</td>\n",
       "      <td>Mobile</td>\n",
       "      <td>2</td>\n",
       "      <td>78</td>\n",
       "      <td>8</td>\n",
       "      <td>Net Banking</td>\n",
       "      <td>0</td>\n",
       "    </tr>\n",
       "    <tr>\n",
       "      <th>14588</th>\n",
       "      <td>2261.38</td>\n",
       "      <td>ATM Withdrawal</td>\n",
       "      <td>8.0</td>\n",
       "      <td>Tablet</td>\n",
       "      <td>0</td>\n",
       "      <td>39</td>\n",
       "      <td>2</td>\n",
       "      <td>UPI</td>\n",
       "      <td>0</td>\n",
       "    </tr>\n",
       "    <tr>\n",
       "      <th>34321</th>\n",
       "      <td>3985.90</td>\n",
       "      <td>Bill Payment</td>\n",
       "      <td>NaN</td>\n",
       "      <td>NaN</td>\n",
       "      <td>4</td>\n",
       "      <td>33</td>\n",
       "      <td>13</td>\n",
       "      <td>UPI</td>\n",
       "      <td>1</td>\n",
       "    </tr>\n",
       "  </tbody>\n",
       "</table>\n",
       "</div>"
      ],
      "text/plain": [
       "       Transaction_Amount Transaction_Type  Time_of_Transaction Device_Used  \\\n",
       "35733             1414.20   ATM Withdrawal                 15.0      Mobile   \n",
       "7210               217.64     Bill Payment                 19.0      Mobile   \n",
       "24032              180.97      POS Payment                  1.0      Mobile   \n",
       "14588             2261.38   ATM Withdrawal                  8.0      Tablet   \n",
       "34321             3985.90     Bill Payment                  NaN         NaN   \n",
       "\n",
       "       Previous_Fraudulent_Transactions  Account_Age  \\\n",
       "35733                                 3          100   \n",
       "7210                                  0            4   \n",
       "24032                                 2           78   \n",
       "14588                                 0           39   \n",
       "34321                                 4           33   \n",
       "\n",
       "       Number_of_Transactions_Last_24H Payment_Method  Fraudulent  \n",
       "35733                                6    Net Banking           0  \n",
       "7210                                 4    Credit Card           1  \n",
       "24032                                8    Net Banking           0  \n",
       "14588                                2            UPI           0  \n",
       "34321                               13            UPI           1  "
      ]
     },
     "execution_count": 12,
     "metadata": {},
     "output_type": "execute_result"
    }
   ],
   "source": [
    "data.sample(5)"
   ]
  },
  {
   "cell_type": "code",
   "execution_count": 13,
   "id": "3407d9b2-f9da-4543-b7c7-59770cc79081",
   "metadata": {},
   "outputs": [
    {
     "data": {
      "text/plain": [
       "Transaction_Amount                  2520\n",
       "Transaction_Type                       0\n",
       "Time_of_Transaction                 2552\n",
       "Device_Used                         2473\n",
       "Previous_Fraudulent_Transactions       0\n",
       "Account_Age                            0\n",
       "Number_of_Transactions_Last_24H        0\n",
       "Payment_Method                      2469\n",
       "Fraudulent                             0\n",
       "dtype: int64"
      ]
     },
     "execution_count": 13,
     "metadata": {},
     "output_type": "execute_result"
    }
   ],
   "source": [
    "data.isnull().sum()"
   ]
  },
  {
   "cell_type": "code",
   "execution_count": 14,
   "id": "734f7ed6-cf3b-42c2-8f35-4c9d09dfe1dc",
   "metadata": {},
   "outputs": [],
   "source": [
    "data['Transaction_Amount']=df['Transaction_Amount'].fillna(df['Transaction_Amount'].mean())"
   ]
  },
  {
   "cell_type": "code",
   "execution_count": 15,
   "id": "abe59127-0204-49f1-a65b-b87cec39cf19",
   "metadata": {},
   "outputs": [],
   "source": [
    "data['Time_of_Transaction']=df['Time_of_Transaction'].fillna(df['Time_of_Transaction'].mean())"
   ]
  },
  {
   "cell_type": "code",
   "execution_count": 16,
   "id": "d19b2c16-a49a-489a-a5d2-490f28330996",
   "metadata": {},
   "outputs": [],
   "source": [
    "data['Device_Used']=df['Device_Used'].fillna(df['Device_Used'].mode().iloc[0])"
   ]
  },
  {
   "cell_type": "code",
   "execution_count": 17,
   "id": "1c875e08-6d5a-49b1-892d-1f5396e7d022",
   "metadata": {},
   "outputs": [],
   "source": [
    "data['Payment_Method']=df['Payment_Method'].fillna(df['Payment_Method'].mode().iloc[0])"
   ]
  },
  {
   "cell_type": "code",
   "execution_count": 18,
   "id": "c28a5825-adb2-4889-840b-3f859901b808",
   "metadata": {},
   "outputs": [
    {
     "data": {
      "text/html": [
       "<div>\n",
       "<style scoped>\n",
       "    .dataframe tbody tr th:only-of-type {\n",
       "        vertical-align: middle;\n",
       "    }\n",
       "\n",
       "    .dataframe tbody tr th {\n",
       "        vertical-align: top;\n",
       "    }\n",
       "\n",
       "    .dataframe thead th {\n",
       "        text-align: right;\n",
       "    }\n",
       "</style>\n",
       "<table border=\"1\" class=\"dataframe\">\n",
       "  <thead>\n",
       "    <tr style=\"text-align: right;\">\n",
       "      <th></th>\n",
       "      <th>Transaction_Amount</th>\n",
       "      <th>Time_of_Transaction</th>\n",
       "      <th>Previous_Fraudulent_Transactions</th>\n",
       "      <th>Account_Age</th>\n",
       "      <th>Number_of_Transactions_Last_24H</th>\n",
       "      <th>Fraudulent</th>\n",
       "    </tr>\n",
       "  </thead>\n",
       "  <tbody>\n",
       "    <tr>\n",
       "      <th>count</th>\n",
       "      <td>51000.000000</td>\n",
       "      <td>51000.000000</td>\n",
       "      <td>51000.000000</td>\n",
       "      <td>51000.000000</td>\n",
       "      <td>51000.000000</td>\n",
       "      <td>51000.000000</td>\n",
       "    </tr>\n",
       "    <tr>\n",
       "      <th>mean</th>\n",
       "      <td>2996.249784</td>\n",
       "      <td>11.488400</td>\n",
       "      <td>1.995725</td>\n",
       "      <td>60.033902</td>\n",
       "      <td>7.495588</td>\n",
       "      <td>0.049216</td>\n",
       "    </tr>\n",
       "    <tr>\n",
       "      <th>std</th>\n",
       "      <td>4917.736637</td>\n",
       "      <td>6.747518</td>\n",
       "      <td>1.415150</td>\n",
       "      <td>34.384131</td>\n",
       "      <td>4.020080</td>\n",
       "      <td>0.216320</td>\n",
       "    </tr>\n",
       "    <tr>\n",
       "      <th>min</th>\n",
       "      <td>5.030000</td>\n",
       "      <td>0.000000</td>\n",
       "      <td>0.000000</td>\n",
       "      <td>1.000000</td>\n",
       "      <td>1.000000</td>\n",
       "      <td>0.000000</td>\n",
       "    </tr>\n",
       "    <tr>\n",
       "      <th>25%</th>\n",
       "      <td>1333.787500</td>\n",
       "      <td>6.000000</td>\n",
       "      <td>1.000000</td>\n",
       "      <td>30.000000</td>\n",
       "      <td>4.000000</td>\n",
       "      <td>0.000000</td>\n",
       "    </tr>\n",
       "    <tr>\n",
       "      <th>50%</th>\n",
       "      <td>2656.165000</td>\n",
       "      <td>11.488400</td>\n",
       "      <td>2.000000</td>\n",
       "      <td>60.000000</td>\n",
       "      <td>7.000000</td>\n",
       "      <td>0.000000</td>\n",
       "    </tr>\n",
       "    <tr>\n",
       "      <th>75%</th>\n",
       "      <td>3724.987500</td>\n",
       "      <td>17.000000</td>\n",
       "      <td>3.000000</td>\n",
       "      <td>90.000000</td>\n",
       "      <td>11.000000</td>\n",
       "      <td>0.000000</td>\n",
       "    </tr>\n",
       "    <tr>\n",
       "      <th>max</th>\n",
       "      <td>49997.800000</td>\n",
       "      <td>23.000000</td>\n",
       "      <td>4.000000</td>\n",
       "      <td>119.000000</td>\n",
       "      <td>14.000000</td>\n",
       "      <td>1.000000</td>\n",
       "    </tr>\n",
       "  </tbody>\n",
       "</table>\n",
       "</div>"
      ],
      "text/plain": [
       "       Transaction_Amount  Time_of_Transaction  \\\n",
       "count        51000.000000         51000.000000   \n",
       "mean          2996.249784            11.488400   \n",
       "std           4917.736637             6.747518   \n",
       "min              5.030000             0.000000   \n",
       "25%           1333.787500             6.000000   \n",
       "50%           2656.165000            11.488400   \n",
       "75%           3724.987500            17.000000   \n",
       "max          49997.800000            23.000000   \n",
       "\n",
       "       Previous_Fraudulent_Transactions   Account_Age  \\\n",
       "count                      51000.000000  51000.000000   \n",
       "mean                           1.995725     60.033902   \n",
       "std                            1.415150     34.384131   \n",
       "min                            0.000000      1.000000   \n",
       "25%                            1.000000     30.000000   \n",
       "50%                            2.000000     60.000000   \n",
       "75%                            3.000000     90.000000   \n",
       "max                            4.000000    119.000000   \n",
       "\n",
       "       Number_of_Transactions_Last_24H    Fraudulent  \n",
       "count                     51000.000000  51000.000000  \n",
       "mean                          7.495588      0.049216  \n",
       "std                           4.020080      0.216320  \n",
       "min                           1.000000      0.000000  \n",
       "25%                           4.000000      0.000000  \n",
       "50%                           7.000000      0.000000  \n",
       "75%                          11.000000      0.000000  \n",
       "max                          14.000000      1.000000  "
      ]
     },
     "execution_count": 18,
     "metadata": {},
     "output_type": "execute_result"
    }
   ],
   "source": [
    "data.describe()"
   ]
  },
  {
   "cell_type": "code",
   "execution_count": 19,
   "id": "6d4f8b78-8b7a-46ea-ad92-823a3aed1ad0",
   "metadata": {},
   "outputs": [],
   "source": [
    "from sklearn.preprocessing import LabelEncoder"
   ]
  },
  {
   "cell_type": "code",
   "execution_count": 20,
   "id": "f7933931-b4db-42b8-a192-c9cb9e522e0e",
   "metadata": {},
   "outputs": [],
   "source": [
    "le=LabelEncoder()"
   ]
  },
  {
   "cell_type": "code",
   "execution_count": 21,
   "id": "8156789e-6cd7-445f-8bcf-bab4e1a30b74",
   "metadata": {},
   "outputs": [],
   "source": [
    "data['Transaction_Type']=le.fit_transform(data[['Transaction_Type']])"
   ]
  },
  {
   "cell_type": "code",
   "execution_count": 22,
   "id": "3cf7b1cc-ab3a-4e66-9753-0aba20b7b256",
   "metadata": {},
   "outputs": [],
   "source": [
    "data['Device_Used']=le.fit_transform(data[['Device_Used']])"
   ]
  },
  {
   "cell_type": "code",
   "execution_count": 23,
   "id": "aa7b9f97-9d74-4d28-ab25-bb239bf73ebc",
   "metadata": {},
   "outputs": [],
   "source": [
    "data['Payment_Method']=le.fit_transform(data[['Payment_Method']])"
   ]
  },
  {
   "cell_type": "code",
   "execution_count": 24,
   "id": "45c44536-e58d-489a-9503-89abf705c00e",
   "metadata": {},
   "outputs": [
    {
     "data": {
      "text/html": [
       "<div>\n",
       "<style scoped>\n",
       "    .dataframe tbody tr th:only-of-type {\n",
       "        vertical-align: middle;\n",
       "    }\n",
       "\n",
       "    .dataframe tbody tr th {\n",
       "        vertical-align: top;\n",
       "    }\n",
       "\n",
       "    .dataframe thead th {\n",
       "        text-align: right;\n",
       "    }\n",
       "</style>\n",
       "<table border=\"1\" class=\"dataframe\">\n",
       "  <thead>\n",
       "    <tr style=\"text-align: right;\">\n",
       "      <th></th>\n",
       "      <th>Transaction_Amount</th>\n",
       "      <th>Transaction_Type</th>\n",
       "      <th>Time_of_Transaction</th>\n",
       "      <th>Device_Used</th>\n",
       "      <th>Previous_Fraudulent_Transactions</th>\n",
       "      <th>Account_Age</th>\n",
       "      <th>Number_of_Transactions_Last_24H</th>\n",
       "      <th>Payment_Method</th>\n",
       "      <th>Fraudulent</th>\n",
       "    </tr>\n",
       "  </thead>\n",
       "  <tbody>\n",
       "    <tr>\n",
       "      <th>0</th>\n",
       "      <td>1292.76</td>\n",
       "      <td>0</td>\n",
       "      <td>16.0000</td>\n",
       "      <td>2</td>\n",
       "      <td>0</td>\n",
       "      <td>119</td>\n",
       "      <td>13</td>\n",
       "      <td>1</td>\n",
       "      <td>0</td>\n",
       "    </tr>\n",
       "    <tr>\n",
       "      <th>1</th>\n",
       "      <td>1554.58</td>\n",
       "      <td>0</td>\n",
       "      <td>13.0000</td>\n",
       "      <td>1</td>\n",
       "      <td>4</td>\n",
       "      <td>79</td>\n",
       "      <td>3</td>\n",
       "      <td>0</td>\n",
       "      <td>0</td>\n",
       "    </tr>\n",
       "    <tr>\n",
       "      <th>2</th>\n",
       "      <td>2395.02</td>\n",
       "      <td>0</td>\n",
       "      <td>11.4884</td>\n",
       "      <td>1</td>\n",
       "      <td>3</td>\n",
       "      <td>115</td>\n",
       "      <td>9</td>\n",
       "      <td>4</td>\n",
       "      <td>0</td>\n",
       "    </tr>\n",
       "    <tr>\n",
       "      <th>3</th>\n",
       "      <td>100.10</td>\n",
       "      <td>2</td>\n",
       "      <td>15.0000</td>\n",
       "      <td>0</td>\n",
       "      <td>4</td>\n",
       "      <td>3</td>\n",
       "      <td>4</td>\n",
       "      <td>4</td>\n",
       "      <td>0</td>\n",
       "    </tr>\n",
       "    <tr>\n",
       "      <th>4</th>\n",
       "      <td>1490.50</td>\n",
       "      <td>4</td>\n",
       "      <td>19.0000</td>\n",
       "      <td>1</td>\n",
       "      <td>2</td>\n",
       "      <td>57</td>\n",
       "      <td>7</td>\n",
       "      <td>0</td>\n",
       "      <td>0</td>\n",
       "    </tr>\n",
       "    <tr>\n",
       "      <th>...</th>\n",
       "      <td>...</td>\n",
       "      <td>...</td>\n",
       "      <td>...</td>\n",
       "      <td>...</td>\n",
       "      <td>...</td>\n",
       "      <td>...</td>\n",
       "      <td>...</td>\n",
       "      <td>...</td>\n",
       "      <td>...</td>\n",
       "    </tr>\n",
       "    <tr>\n",
       "      <th>50995</th>\n",
       "      <td>3112.51</td>\n",
       "      <td>2</td>\n",
       "      <td>15.0000</td>\n",
       "      <td>1</td>\n",
       "      <td>0</td>\n",
       "      <td>7</td>\n",
       "      <td>8</td>\n",
       "      <td>1</td>\n",
       "      <td>0</td>\n",
       "    </tr>\n",
       "    <tr>\n",
       "      <th>50996</th>\n",
       "      <td>2897.15</td>\n",
       "      <td>3</td>\n",
       "      <td>3.0000</td>\n",
       "      <td>1</td>\n",
       "      <td>1</td>\n",
       "      <td>75</td>\n",
       "      <td>11</td>\n",
       "      <td>3</td>\n",
       "      <td>1</td>\n",
       "    </tr>\n",
       "    <tr>\n",
       "      <th>50997</th>\n",
       "      <td>2204.43</td>\n",
       "      <td>4</td>\n",
       "      <td>18.0000</td>\n",
       "      <td>1</td>\n",
       "      <td>3</td>\n",
       "      <td>73</td>\n",
       "      <td>5</td>\n",
       "      <td>0</td>\n",
       "      <td>0</td>\n",
       "    </tr>\n",
       "    <tr>\n",
       "      <th>50998</th>\n",
       "      <td>4787.17</td>\n",
       "      <td>4</td>\n",
       "      <td>19.0000</td>\n",
       "      <td>2</td>\n",
       "      <td>2</td>\n",
       "      <td>108</td>\n",
       "      <td>14</td>\n",
       "      <td>3</td>\n",
       "      <td>0</td>\n",
       "    </tr>\n",
       "    <tr>\n",
       "      <th>50999</th>\n",
       "      <td>814.72</td>\n",
       "      <td>4</td>\n",
       "      <td>3.0000</td>\n",
       "      <td>2</td>\n",
       "      <td>0</td>\n",
       "      <td>50</td>\n",
       "      <td>10</td>\n",
       "      <td>2</td>\n",
       "      <td>0</td>\n",
       "    </tr>\n",
       "  </tbody>\n",
       "</table>\n",
       "<p>51000 rows × 9 columns</p>\n",
       "</div>"
      ],
      "text/plain": [
       "       Transaction_Amount  Transaction_Type  Time_of_Transaction  Device_Used  \\\n",
       "0                 1292.76                 0              16.0000            2   \n",
       "1                 1554.58                 0              13.0000            1   \n",
       "2                 2395.02                 0              11.4884            1   \n",
       "3                  100.10                 2              15.0000            0   \n",
       "4                 1490.50                 4              19.0000            1   \n",
       "...                   ...               ...                  ...          ...   \n",
       "50995             3112.51                 2              15.0000            1   \n",
       "50996             2897.15                 3               3.0000            1   \n",
       "50997             2204.43                 4              18.0000            1   \n",
       "50998             4787.17                 4              19.0000            2   \n",
       "50999              814.72                 4               3.0000            2   \n",
       "\n",
       "       Previous_Fraudulent_Transactions  Account_Age  \\\n",
       "0                                     0          119   \n",
       "1                                     4           79   \n",
       "2                                     3          115   \n",
       "3                                     4            3   \n",
       "4                                     2           57   \n",
       "...                                 ...          ...   \n",
       "50995                                 0            7   \n",
       "50996                                 1           75   \n",
       "50997                                 3           73   \n",
       "50998                                 2          108   \n",
       "50999                                 0           50   \n",
       "\n",
       "       Number_of_Transactions_Last_24H  Payment_Method  Fraudulent  \n",
       "0                                   13               1           0  \n",
       "1                                    3               0           0  \n",
       "2                                    9               4           0  \n",
       "3                                    4               4           0  \n",
       "4                                    7               0           0  \n",
       "...                                ...             ...         ...  \n",
       "50995                                8               1           0  \n",
       "50996                               11               3           1  \n",
       "50997                                5               0           0  \n",
       "50998                               14               3           0  \n",
       "50999                               10               2           0  \n",
       "\n",
       "[51000 rows x 9 columns]"
      ]
     },
     "execution_count": 24,
     "metadata": {},
     "output_type": "execute_result"
    }
   ],
   "source": [
    "data"
   ]
  },
  {
   "cell_type": "code",
   "execution_count": 25,
   "id": "fd133b01-aacd-4252-85f8-b9ea125c8d83",
   "metadata": {},
   "outputs": [],
   "source": [
    "from sklearn.preprocessing import StandardScaler\n",
    "from sklearn.model_selection import train_test_split,cross_val_score\n",
    "from sklearn.metrics import accuracy_score"
   ]
  },
  {
   "cell_type": "code",
   "execution_count": 26,
   "id": "caafb984-8d34-4d98-92b1-fa8a1fa5d88a",
   "metadata": {},
   "outputs": [],
   "source": [
    "scaler=StandardScaler()"
   ]
  },
  {
   "cell_type": "code",
   "execution_count": 27,
   "id": "80492700-02fd-47c3-8663-4bec04aaf27c",
   "metadata": {},
   "outputs": [],
   "source": [
    "x=data.iloc[:,0:8]\n",
    "y=data.iloc[:,-1]"
   ]
  },
  {
   "cell_type": "code",
   "execution_count": 28,
   "id": "b2450fdf-9403-4870-8a2e-ec958e004679",
   "metadata": {},
   "outputs": [],
   "source": [
    "x_train,x_test,y_train,y_test=train_test_split(x,y,test_size=0.3,random_state=42)"
   ]
  },
  {
   "cell_type": "code",
   "execution_count": 29,
   "id": "419ba62b-2525-4d8b-a08b-6aa934886cd3",
   "metadata": {},
   "outputs": [],
   "source": [
    "x_train_trans=scaler.fit_transform(x_train)"
   ]
  },
  {
   "cell_type": "code",
   "execution_count": 30,
   "id": "90d9623f-7543-4a17-a67c-51a015d596ed",
   "metadata": {},
   "outputs": [],
   "source": [
    "x_test_trans=scaler.fit_transform(x_test)"
   ]
  },
  {
   "cell_type": "code",
   "execution_count": 31,
   "id": "0ad703b1-8b26-4793-921d-f87326a80095",
   "metadata": {},
   "outputs": [],
   "source": [
    "from sklearn.linear_model import LogisticRegression\n",
    "from sklearn.tree import DecisionTreeClassifier\n",
    "from sklearn.ensemble import RandomForestClassifier, GradientBoostingClassifier, AdaBoostClassifier, ExtraTreesClassifier, HistGradientBoostingClassifier\n",
    "from sklearn.neighbors import KNeighborsClassifier\n",
    "from sklearn.svm import SVC\n",
    "from sklearn.naive_bayes import GaussianNB, MultinomialNB, BernoulliNB, ComplementNB\n",
    "from sklearn.discriminant_analysis import LinearDiscriminantAnalysis, QuadraticDiscriminantAnalysis\n",
    "from xgboost import XGBClassifier\n"
   ]
  },
  {
   "cell_type": "code",
   "execution_count": 32,
   "id": "cd9df02d-e4d3-418b-9d45-21c3bae469f9",
   "metadata": {},
   "outputs": [],
   "source": [
    "models = [\n",
    "    LogisticRegression(),\n",
    "    DecisionTreeClassifier(),\n",
    "    RandomForestClassifier(),\n",
    "    GradientBoostingClassifier(),\n",
    "    AdaBoostClassifier(),\n",
    "    ExtraTreesClassifier(),\n",
    "    HistGradientBoostingClassifier(),\n",
    "    KNeighborsClassifier(),\n",
    "    SVC(),\n",
    "    GaussianNB(),\n",
    "    MultinomialNB(),\n",
    "    BernoulliNB(),\n",
    "    ComplementNB(),\n",
    "    LinearDiscriminantAnalysis(),\n",
    "    QuadraticDiscriminantAnalysis(),\n",
    "    XGBClassifier()\n",
    "]"
   ]
  },
  {
   "cell_type": "code",
   "execution_count": 33,
   "id": "9c3558b5-6660-454d-81ce-7f40ffde1aeb",
   "metadata": {},
   "outputs": [],
   "source": [
    "model= [\n",
    "    \"LogisticRegression\",\n",
    "    \"DecisionTreeClassifier\",\n",
    "    \"RandomForestClassifier\",\n",
    "    \"GradientBoostingClassifier\",\n",
    "    \"AdaBoostClassifier\",\n",
    "    \"ExtraTreesClassifier\",\n",
    "    \"HistGradientBoostingClassifier\",\n",
    "    \"KNeighborsClassifier\",\n",
    "    \"SVC\",\n",
    "    \"GaussianNB\",\n",
    "    \"MultinomialNB\",\n",
    "    \"BernoulliNB\",\n",
    "    \"ComplementNB\",\n",
    "    \"LinearDiscriminantAnalysis\",\n",
    "    \"QuadraticDiscriminantAnalysis\",\n",
    "    \"XGBClassifier\"\n",
    "]"
   ]
  },
  {
   "cell_type": "code",
   "execution_count": 34,
   "id": "491caca3-bace-4b48-931a-c523a1aeb4a5",
   "metadata": {},
   "outputs": [],
   "source": [
    "scores=[]"
   ]
  },
  {
   "cell_type": "code",
   "execution_count": 35,
   "id": "ddc17729-8c5c-4e4f-a9c3-600b688c77a8",
   "metadata": {},
   "outputs": [],
   "source": [
    "for i in models:\n",
    "    i.fit(x_train,y_train)\n",
    "    y_pred=i.predict(x_test)\n",
    "    scores.append(accuracy_score(y_test,y_pred))"
   ]
  },
  {
   "cell_type": "code",
   "execution_count": 36,
   "id": "7a320528-3881-48b7-91ba-5be2e96a0adf",
   "metadata": {},
   "outputs": [
    {
     "name": "stdout",
     "output_type": "stream",
     "text": [
      "LogisticRegression : 0.951437908496732\n",
      "DecisionTreeClassifier : 0.8925490196078432\n",
      "RandomForestClassifier : 0.9530718954248366\n",
      "GradientBoostingClassifier : 0.9513071895424836\n",
      "AdaBoostClassifier : 0.9513725490196079\n",
      "ExtraTreesClassifier : 0.9526143790849673\n",
      "HistGradientBoostingClassifier : 0.951437908496732\n",
      "KNeighborsClassifier : 0.9505228758169935\n",
      "SVC : 0.951437908496732\n",
      "GaussianNB : 0.9432026143790849\n",
      "MultinomialNB : 0.9003921568627451\n",
      "BernoulliNB : 0.951437908496732\n",
      "ComplementNB : 0.5877777777777777\n",
      "LinearDiscriminantAnalysis : 0.951437908496732\n",
      "QuadraticDiscriminantAnalysis : 0.9432026143790849\n",
      "XGBClassifier : 0.9511111111111111\n"
     ]
    }
   ],
   "source": [
    "for i,j in zip(model,scores):\n",
    "    print(i,':',j)"
   ]
  },
  {
   "cell_type": "code",
   "execution_count": 37,
   "id": "86abbae8-69d8-42a4-9351-9db752cf14e1",
   "metadata": {},
   "outputs": [],
   "source": [
    "max_index = scores.index(max(scores))\n",
    "best_model = models[max_index]\n",
    "best_score = scores[max_index]"
   ]
  },
  {
   "cell_type": "code",
   "execution_count": 38,
   "id": "945c5d46-d6e7-4c6a-b17b-d4268a4351c5",
   "metadata": {},
   "outputs": [
    {
     "name": "stdout",
     "output_type": "stream",
     "text": [
      "\n",
      "Best Model: RandomForestClassifier() with score: 0.9530718954248366\n"
     ]
    }
   ],
   "source": [
    "print(\"\\nBest Model:\", best_model, \"with score:\", best_score)"
   ]
  },
  {
   "cell_type": "code",
   "execution_count": 39,
   "id": "46780b2b-8686-4f3d-9718-4c66ac3ce86e",
   "metadata": {},
   "outputs": [],
   "source": [
    "import optuna "
   ]
  },
  {
   "cell_type": "code",
   "execution_count": 40,
   "id": "85e08350-29af-4bf8-b6ef-e6cf89546d0b",
   "metadata": {},
   "outputs": [],
   "source": [
    "def objective(trial):\n",
    "    n_estimators = trial.suggest_int(\"n_estimators\", 50, 300)\n",
    "    max_depth = trial.suggest_int(\"max_depth\", 2, 20)\n",
    "    min_samples_split = trial.suggest_int(\"min_samples_split\", 2, 10)\n",
    "    min_samples_leaf = trial.suggest_int(\"min_samples_leaf\", 1, 10)\n",
    "    max_features = trial.suggest_categorical(\"max_features\", [\"sqrt\", \"log2\", None])\n",
    "\n",
    "    model = RandomForestClassifier(\n",
    "        n_estimators=n_estimators,\n",
    "        max_depth=max_depth,\n",
    "        min_samples_split=min_samples_split,\n",
    "        min_samples_leaf=min_samples_leaf,\n",
    "        max_features=max_features,\n",
    "        random_state=42,\n",
    "        n_jobs=-1,  \n",
    "        warm_start=True, \n",
    "    )\n",
    "\n",
    "    score = cross_val_score(model, x_train_trans, y_train, cv=3, scoring=\"accuracy\", n_jobs=-1).mean()\n",
    "    return score\n"
   ]
  },
  {
   "cell_type": "code",
   "execution_count": 42,
   "id": "ea5a9961-6cc7-453f-a4f5-a045551029b4",
   "metadata": {},
   "outputs": [
    {
     "name": "stderr",
     "output_type": "stream",
     "text": [
      "[I 2025-03-16 15:46:23,903] A new study created in memory with name: no-name-c0e642b1-a5cc-4aba-b53e-ac2cba2de39d\n",
      "[I 2025-03-16 15:46:30,111] Trial 0 finished with value: 0.9505042016806723 and parameters: {'n_estimators': 234, 'max_depth': 19, 'min_samples_split': 7, 'min_samples_leaf': 2, 'max_features': 'sqrt'}. Best is trial 0 with value: 0.9505042016806723.\n",
      "[I 2025-03-16 15:46:38,147] Trial 1 finished with value: 0.9505042016806723 and parameters: {'n_estimators': 235, 'max_depth': 15, 'min_samples_split': 3, 'min_samples_leaf': 8, 'max_features': 'log2'}. Best is trial 0 with value: 0.9505042016806723.\n",
      "[I 2025-03-16 15:46:55,362] Trial 2 finished with value: 0.9505042016806723 and parameters: {'n_estimators': 259, 'max_depth': 9, 'min_samples_split': 4, 'min_samples_leaf': 4, 'max_features': None}. Best is trial 0 with value: 0.9505042016806723.\n",
      "[I 2025-03-16 15:46:59,288] Trial 3 finished with value: 0.9505042016806723 and parameters: {'n_estimators': 254, 'max_depth': 6, 'min_samples_split': 4, 'min_samples_leaf': 2, 'max_features': 'sqrt'}. Best is trial 0 with value: 0.9505042016806723.\n",
      "[I 2025-03-16 15:47:03,206] Trial 4 finished with value: 0.9505042016806723 and parameters: {'n_estimators': 218, 'max_depth': 5, 'min_samples_split': 6, 'min_samples_leaf': 7, 'max_features': 'log2'}. Best is trial 0 with value: 0.9505042016806723.\n",
      "[I 2025-03-16 15:47:11,283] Trial 5 finished with value: 0.9505602240896359 and parameters: {'n_estimators': 97, 'max_depth': 15, 'min_samples_split': 3, 'min_samples_leaf': 1, 'max_features': None}. Best is trial 5 with value: 0.9505602240896359.\n",
      "[I 2025-03-16 15:47:34,144] Trial 6 finished with value: 0.9505042016806723 and parameters: {'n_estimators': 299, 'max_depth': 15, 'min_samples_split': 2, 'min_samples_leaf': 8, 'max_features': None}. Best is trial 5 with value: 0.9505602240896359.\n",
      "[I 2025-03-16 15:47:39,075] Trial 7 finished with value: 0.9505042016806723 and parameters: {'n_estimators': 150, 'max_depth': 12, 'min_samples_split': 3, 'min_samples_leaf': 10, 'max_features': 'log2'}. Best is trial 5 with value: 0.9505602240896359.\n",
      "[I 2025-03-16 15:47:54,311] Trial 8 finished with value: 0.9505042016806723 and parameters: {'n_estimators': 210, 'max_depth': 12, 'min_samples_split': 10, 'min_samples_leaf': 5, 'max_features': None}. Best is trial 5 with value: 0.9505602240896359.\n",
      "[I 2025-03-16 15:47:57,036] Trial 9 finished with value: 0.9505042016806723 and parameters: {'n_estimators': 243, 'max_depth': 3, 'min_samples_split': 3, 'min_samples_leaf': 6, 'max_features': 'sqrt'}. Best is trial 5 with value: 0.9505602240896359.\n",
      "[I 2025-03-16 15:48:03,192] Trial 10 finished with value: 0.950532212885154 and parameters: {'n_estimators': 63, 'max_depth': 20, 'min_samples_split': 6, 'min_samples_leaf': 1, 'max_features': None}. Best is trial 5 with value: 0.9505602240896359.\n",
      "[I 2025-03-16 15:48:08,763] Trial 11 finished with value: 0.9505042016806723 and parameters: {'n_estimators': 58, 'max_depth': 20, 'min_samples_split': 7, 'min_samples_leaf': 1, 'max_features': None}. Best is trial 5 with value: 0.9505602240896359.\n",
      "[I 2025-03-16 15:48:14,173] Trial 12 finished with value: 0.9505042016806723 and parameters: {'n_estimators': 60, 'max_depth': 17, 'min_samples_split': 9, 'min_samples_leaf': 1, 'max_features': None}. Best is trial 5 with value: 0.9505602240896359.\n",
      "[I 2025-03-16 15:48:23,451] Trial 13 finished with value: 0.9505042016806723 and parameters: {'n_estimators': 110, 'max_depth': 16, 'min_samples_split': 5, 'min_samples_leaf': 3, 'max_features': None}. Best is trial 5 with value: 0.9505602240896359.\n",
      "[I 2025-03-16 15:48:32,551] Trial 14 finished with value: 0.9505042016806723 and parameters: {'n_estimators': 103, 'max_depth': 18, 'min_samples_split': 8, 'min_samples_leaf': 3, 'max_features': None}. Best is trial 5 with value: 0.9505602240896359.\n",
      "[I 2025-03-16 15:48:40,545] Trial 15 finished with value: 0.9505042016806723 and parameters: {'n_estimators': 101, 'max_depth': 13, 'min_samples_split': 5, 'min_samples_leaf': 1, 'max_features': None}. Best is trial 5 with value: 0.9505602240896359.\n",
      "[I 2025-03-16 15:48:50,547] Trial 16 finished with value: 0.9505042016806723 and parameters: {'n_estimators': 160, 'max_depth': 9, 'min_samples_split': 2, 'min_samples_leaf': 4, 'max_features': None}. Best is trial 5 with value: 0.9505602240896359.\n",
      "[I 2025-03-16 15:48:58,661] Trial 17 finished with value: 0.9505042016806723 and parameters: {'n_estimators': 81, 'max_depth': 20, 'min_samples_split': 6, 'min_samples_leaf': 3, 'max_features': None}. Best is trial 5 with value: 0.9505602240896359.\n",
      "[I 2025-03-16 15:49:04,091] Trial 18 finished with value: 0.9505042016806723 and parameters: {'n_estimators': 134, 'max_depth': 14, 'min_samples_split': 5, 'min_samples_leaf': 2, 'max_features': 'log2'}. Best is trial 5 with value: 0.9505602240896359.\n",
      "[I 2025-03-16 15:49:08,780] Trial 19 finished with value: 0.9505042016806723 and parameters: {'n_estimators': 187, 'max_depth': 10, 'min_samples_split': 8, 'min_samples_leaf': 5, 'max_features': 'sqrt'}. Best is trial 5 with value: 0.9505602240896359.\n",
      "[I 2025-03-16 15:49:15,526] Trial 20 finished with value: 0.9505042016806723 and parameters: {'n_estimators': 79, 'max_depth': 17, 'min_samples_split': 4, 'min_samples_leaf': 10, 'max_features': None}. Best is trial 5 with value: 0.9505602240896359.\n",
      "[I 2025-03-16 15:49:20,802] Trial 21 finished with value: 0.9505042016806723 and parameters: {'n_estimators': 184, 'max_depth': 19, 'min_samples_split': 7, 'min_samples_leaf': 2, 'max_features': 'sqrt'}. Best is trial 5 with value: 0.9505602240896359.\n",
      "[I 2025-03-16 15:49:24,828] Trial 22 finished with value: 0.9505042016806723 and parameters: {'n_estimators': 138, 'max_depth': 18, 'min_samples_split': 7, 'min_samples_leaf': 1, 'max_features': 'sqrt'}. Best is trial 5 with value: 0.9505602240896359.\n",
      "[I 2025-03-16 15:49:32,606] Trial 23 finished with value: 0.9505042016806723 and parameters: {'n_estimators': 275, 'max_depth': 20, 'min_samples_split': 8, 'min_samples_leaf': 2, 'max_features': 'sqrt'}. Best is trial 5 with value: 0.9505602240896359.\n",
      "[I 2025-03-16 15:49:36,232] Trial 24 finished with value: 0.9505042016806723 and parameters: {'n_estimators': 122, 'max_depth': 17, 'min_samples_split': 10, 'min_samples_leaf': 1, 'max_features': 'sqrt'}. Best is trial 5 with value: 0.9505602240896359.\n",
      "[I 2025-03-16 15:49:37,869] Trial 25 finished with value: 0.9505042016806723 and parameters: {'n_estimators': 50, 'max_depth': 18, 'min_samples_split': 9, 'min_samples_leaf': 4, 'max_features': 'sqrt'}. Best is trial 5 with value: 0.9505602240896359.\n",
      "[I 2025-03-16 15:49:44,330] Trial 26 finished with value: 0.9505042016806723 and parameters: {'n_estimators': 77, 'max_depth': 15, 'min_samples_split': 6, 'min_samples_leaf': 3, 'max_features': None}. Best is trial 5 with value: 0.9505602240896359.\n",
      "[I 2025-03-16 15:50:03,546] Trial 27 finished with value: 0.9505042016806723 and parameters: {'n_estimators': 211, 'max_depth': 20, 'min_samples_split': 7, 'min_samples_leaf': 2, 'max_features': None}. Best is trial 5 with value: 0.9505602240896359.\n",
      "[I 2025-03-16 15:50:07,193] Trial 28 finished with value: 0.9505042016806723 and parameters: {'n_estimators': 88, 'max_depth': 19, 'min_samples_split': 5, 'min_samples_leaf': 1, 'max_features': 'log2'}. Best is trial 5 with value: 0.9505602240896359.\n",
      "[I 2025-03-16 15:50:12,250] Trial 29 finished with value: 0.9505042016806723 and parameters: {'n_estimators': 171, 'max_depth': 16, 'min_samples_split': 9, 'min_samples_leaf': 2, 'max_features': 'sqrt'}. Best is trial 5 with value: 0.9505602240896359.\n",
      "[I 2025-03-16 15:50:19,007] Trial 30 finished with value: 0.9505042016806723 and parameters: {'n_estimators': 198, 'max_depth': 14, 'min_samples_split': 6, 'min_samples_leaf': 6, 'max_features': 'log2'}. Best is trial 5 with value: 0.9505602240896359.\n",
      "[I 2025-03-16 15:50:26,763] Trial 31 finished with value: 0.9505042016806723 and parameters: {'n_estimators': 225, 'max_depth': 15, 'min_samples_split': 3, 'min_samples_leaf': 8, 'max_features': 'log2'}. Best is trial 5 with value: 0.9505602240896359.\n",
      "[I 2025-03-16 15:50:34,362] Trial 32 finished with value: 0.9505042016806723 and parameters: {'n_estimators': 248, 'max_depth': 11, 'min_samples_split': 4, 'min_samples_leaf': 9, 'max_features': 'log2'}. Best is trial 5 with value: 0.9505602240896359.\n",
      "[I 2025-03-16 15:50:42,762] Trial 33 finished with value: 0.9505042016806723 and parameters: {'n_estimators': 236, 'max_depth': 16, 'min_samples_split': 2, 'min_samples_leaf': 7, 'max_features': 'log2'}. Best is trial 5 with value: 0.9505602240896359.\n",
      "[I 2025-03-16 15:50:52,682] Trial 34 finished with value: 0.9505042016806723 and parameters: {'n_estimators': 270, 'max_depth': 19, 'min_samples_split': 3, 'min_samples_leaf': 8, 'max_features': 'log2'}. Best is trial 5 with value: 0.9505602240896359.\n",
      "[I 2025-03-16 15:51:07,443] Trial 35 finished with value: 0.9505042016806723 and parameters: {'n_estimators': 285, 'max_depth': 8, 'min_samples_split': 4, 'min_samples_leaf': 9, 'max_features': None}. Best is trial 5 with value: 0.9505602240896359.\n",
      "[I 2025-03-16 15:51:16,131] Trial 36 finished with value: 0.9505042016806723 and parameters: {'n_estimators': 260, 'max_depth': 13, 'min_samples_split': 3, 'min_samples_leaf': 3, 'max_features': 'log2'}. Best is trial 5 with value: 0.9505602240896359.\n",
      "[I 2025-03-16 15:51:22,567] Trial 37 finished with value: 0.9505042016806723 and parameters: {'n_estimators': 233, 'max_depth': 18, 'min_samples_split': 2, 'min_samples_leaf': 7, 'max_features': 'sqrt'}. Best is trial 5 with value: 0.9505602240896359.\n",
      "[I 2025-03-16 15:51:38,075] Trial 38 finished with value: 0.9505042016806723 and parameters: {'n_estimators': 203, 'max_depth': 14, 'min_samples_split': 4, 'min_samples_leaf': 4, 'max_features': None}. Best is trial 5 with value: 0.9505602240896359.\n",
      "[I 2025-03-16 15:51:42,786] Trial 39 finished with value: 0.9505042016806723 and parameters: {'n_estimators': 66, 'max_depth': 12, 'min_samples_split': 5, 'min_samples_leaf': 9, 'max_features': None}. Best is trial 5 with value: 0.9505602240896359.\n",
      "[I 2025-03-16 15:51:49,403] Trial 40 finished with value: 0.9505042016806723 and parameters: {'n_estimators': 296, 'max_depth': 7, 'min_samples_split': 3, 'min_samples_leaf': 6, 'max_features': 'log2'}. Best is trial 5 with value: 0.9505602240896359.\n",
      "[I 2025-03-16 15:51:59,848] Trial 41 finished with value: 0.9505042016806723 and parameters: {'n_estimators': 261, 'max_depth': 6, 'min_samples_split': 3, 'min_samples_leaf': 5, 'max_features': None}. Best is trial 5 with value: 0.9505602240896359.\n",
      "[I 2025-03-16 15:52:05,257] Trial 42 finished with value: 0.9505042016806723 and parameters: {'n_estimators': 218, 'max_depth': 3, 'min_samples_split': 2, 'min_samples_leaf': 1, 'max_features': None}. Best is trial 5 with value: 0.9505602240896359.\n",
      "[I 2025-03-16 15:52:21,407] Trial 43 finished with value: 0.9505042016806723 and parameters: {'n_estimators': 247, 'max_depth': 11, 'min_samples_split': 4, 'min_samples_leaf': 4, 'max_features': None}. Best is trial 5 with value: 0.9505602240896359.\n",
      "[I 2025-03-16 15:52:27,245] Trial 44 finished with value: 0.9505042016806723 and parameters: {'n_estimators': 93, 'max_depth': 10, 'min_samples_split': 6, 'min_samples_leaf': 2, 'max_features': None}. Best is trial 5 with value: 0.9505602240896359.\n",
      "[I 2025-03-16 15:52:34,250] Trial 45 finished with value: 0.9505042016806723 and parameters: {'n_estimators': 114, 'max_depth': 10, 'min_samples_split': 4, 'min_samples_leaf': 1, 'max_features': None}. Best is trial 5 with value: 0.9505602240896359.\n",
      "[I 2025-03-16 15:52:36,720] Trial 46 finished with value: 0.9505042016806723 and parameters: {'n_estimators': 65, 'max_depth': 5, 'min_samples_split': 3, 'min_samples_leaf': 3, 'max_features': None}. Best is trial 5 with value: 0.9505602240896359.\n",
      "[I 2025-03-16 15:52:40,946] Trial 47 finished with value: 0.9505042016806723 and parameters: {'n_estimators': 225, 'max_depth': 8, 'min_samples_split': 5, 'min_samples_leaf': 2, 'max_features': 'sqrt'}. Best is trial 5 with value: 0.9505602240896359.\n",
      "[I 2025-03-16 15:53:02,618] Trial 48 finished with value: 0.9505042016806723 and parameters: {'n_estimators': 289, 'max_depth': 13, 'min_samples_split': 8, 'min_samples_leaf': 5, 'max_features': None}. Best is trial 5 with value: 0.9505602240896359.\n",
      "[I 2025-03-16 15:53:17,398] Trial 49 finished with value: 0.9505042016806723 and parameters: {'n_estimators': 166, 'max_depth': 19, 'min_samples_split': 7, 'min_samples_leaf': 1, 'max_features': None}. Best is trial 5 with value: 0.9505602240896359.\n"
     ]
    }
   ],
   "source": [
    "study = optuna.create_study(direction=\"maximize\")\n",
    "study.optimize(objective, n_trials=50)"
   ]
  },
  {
   "cell_type": "code",
   "execution_count": 43,
   "id": "fefb4076-bb33-4c24-8630-b7e08748c2a7",
   "metadata": {},
   "outputs": [
    {
     "data": {
      "text/plain": [
       "{'n_estimators': 97,\n",
       " 'max_depth': 15,\n",
       " 'min_samples_split': 3,\n",
       " 'min_samples_leaf': 1,\n",
       " 'max_features': None}"
      ]
     },
     "execution_count": 43,
     "metadata": {},
     "output_type": "execute_result"
    }
   ],
   "source": [
    "study.best_params"
   ]
  },
  {
   "cell_type": "code",
   "execution_count": 44,
   "id": "bb74711f-6d94-4ef4-940f-d37159ccef98",
   "metadata": {},
   "outputs": [
    {
     "data": {
      "text/plain": [
       "0.9505602240896359"
      ]
     },
     "execution_count": 44,
     "metadata": {},
     "output_type": "execute_result"
    }
   ],
   "source": [
    "study.best_value"
   ]
  },
  {
   "cell_type": "code",
   "execution_count": 45,
   "id": "af841ec0-ad4f-4978-a387-2c8efdcb23c6",
   "metadata": {},
   "outputs": [],
   "source": [
    "best_params = study.best_params\n",
    "final_model = RandomForestClassifier(**best_params, random_state=42, n_jobs=-1)\n",
    "final_model.fit(x_train_trans, y_train)\n",
    "y_pred = final_model.predict(x_test_trans)"
   ]
  },
  {
   "cell_type": "code",
   "execution_count": 46,
   "id": "e7379461-f92e-4620-aad0-ccdd32525b68",
   "metadata": {},
   "outputs": [
    {
     "data": {
      "text/plain": [
       "0.951437908496732"
      ]
     },
     "execution_count": 46,
     "metadata": {},
     "output_type": "execute_result"
    }
   ],
   "source": [
    "accuracy_score(y_test,y_pred)"
   ]
  },
  {
   "cell_type": "code",
   "execution_count": 47,
   "id": "ac049f62-34dd-4c10-bc8d-96834194b365",
   "metadata": {},
   "outputs": [],
   "source": [
    "import pickle"
   ]
  },
  {
   "cell_type": "code",
   "execution_count": 48,
   "id": "acc0d20d-0170-4a0f-a578-bea5a9292308",
   "metadata": {},
   "outputs": [],
   "source": [
    "with open(\"fraud.pkl\", \"wb\") as file:\n",
    "    type=pickle.dump(final_model, file)"
   ]
  },
  {
   "cell_type": "code",
   "execution_count": null,
   "id": "3ef1bec2-f9a8-4427-807c-8ab8be737416",
   "metadata": {},
   "outputs": [],
   "source": []
  },
  {
   "cell_type": "code",
   "execution_count": null,
   "id": "792f2d24-6598-4979-91b3-64591ec58250",
   "metadata": {},
   "outputs": [],
   "source": []
  },
  {
   "cell_type": "code",
   "execution_count": null,
   "id": "35cfc268-e36f-4501-ad2b-e2f6b5af3e91",
   "metadata": {},
   "outputs": [],
   "source": []
  },
  {
   "cell_type": "code",
   "execution_count": null,
   "id": "8e1e133e-7a36-458e-8d1c-3c797ff583ae",
   "metadata": {},
   "outputs": [],
   "source": []
  },
  {
   "cell_type": "code",
   "execution_count": null,
   "id": "cd536112-2084-42d6-8c3a-0e995fcb7037",
   "metadata": {},
   "outputs": [],
   "source": []
  },
  {
   "cell_type": "code",
   "execution_count": null,
   "id": "506182b6-c66a-455b-b12e-73b55bb2b56d",
   "metadata": {},
   "outputs": [],
   "source": []
  }
 ],
 "metadata": {
  "kernelspec": {
   "display_name": "Python 3 (ipykernel)",
   "language": "python",
   "name": "python3"
  },
  "language_info": {
   "codemirror_mode": {
    "name": "ipython",
    "version": 3
   },
   "file_extension": ".py",
   "mimetype": "text/x-python",
   "name": "python",
   "nbconvert_exporter": "python",
   "pygments_lexer": "ipython3",
   "version": "3.12.4"
  }
 },
 "nbformat": 4,
 "nbformat_minor": 5
}
